{
 "cells": [
  {
   "cell_type": "markdown",
   "metadata": {
    "id": "8gOPVrh1gIxx"
   },
   "source": [
    "# Machine Learning Lab 2\n",
    "\n",
    "## Assignment 3 (Deadline : 05/02/2023 11:59PM)\n",
    "\n",
    "Total Points : 25\n",
    "\n",
    "Your answers must be entered in LMS by midnight of the day it is due. \n",
    "\n",
    "If the question requires a textual response, you can create a PDF and upload that. \n",
    "\n",
    "The PDF might be generated from MS-WORD, LATEX, the image of a hand- written response, or using any other mechanism. \n",
    "\n",
    "Code must be uploaded and may require demonstration to the TA. \n",
    "\n",
    "Numbers in the parentheses indicate points allocated to the question. \n",
    "\n",
    "**Naming Convention**: FirstName_LastName_Lab3_TLP23.ipynb"
   ]
  },
  {
   "cell_type": "markdown",
   "metadata": {
    "id": "E7C5soefgYNt"
   },
   "source": [
    "**Assignment**: 3-class Sentiment Analysis with LSTM on Twitter Data\n",
    " \n",
    "\n",
    "**Objective**:\n",
    "The objective of this assignment is to train a LSTM neural network to perform 3-class sentiment analysis on Twitter data.\n",
    " \n",
    "\n",
    "**Dataset**:\n",
    "The dataset used in this assignment is the Sentiment140 dataset, which can be downloaded from http://help.sentiment140.com/for-students. The dataset consists of 1.6 million tweets, labeled as positive (4), neutral (2), or negative (0)"
   ]
  },
  {
   "cell_type": "markdown",
   "metadata": {
    "id": "lap-6Niagm5n"
   },
   "source": [
    "\n",
    "*   Collect a sample of at least 100,000 tweets from the dataset **(1 points)**\n",
    "\n",
    "\n",
    "*   Preprocess the text data by removing punctuation, lowercasing, removing stop words, and tokenizing the words **(3 points)**\n",
    "\n",
    "*   Split the data into training and testing sets, and pad the sequences to the same length **(2 points)**\n",
    "\n",
    "*   Build a LSTM model to classify the tweets as positive, neutral, or negative. The model should have an Embedding layer, followed LSTM layers of your choosing, and a dense layer for output **(7 points)**\n",
    "\n",
    "*   Train the model on the training data and evaluate its performance on the testing data **(3 points)**\n",
    "\n",
    "\n",
    "*   Fine-tune the model by experimenting with different architectures, optimizers, activation functions, and hyperparameters. Feel free to experiment with GRUs **(4 points)**\n",
    "\n",
    "\n",
    "*   Report the accuracy, precision, recall, and F1 score of the model on the testing data. Inclue graphs and necessary data. Include this in a markdown cell within the notebook. Compare the basic LSTM model against SOTA and other architectures which you can directly import **(3 points)**\n",
    "\n",
    "\n",
    "*   Use the trained model to predict the sentiment of 25 new tweets with positive (2), neutral (1), or negative (0) **(2 points)**\n",
    "\n"
   ]
  },
  {
   "cell_type": "code",
   "execution_count": null,
   "metadata": {
    "id": "JS01RBRg4Dv-"
   },
   "outputs": [],
   "source": []
  },
  {
   "cell_type": "markdown",
   "metadata": {
    "id": "vaB6_16U4EoJ"
   },
   "source": [
    "# Libraries"
   ]
  },
  {
   "cell_type": "code",
   "execution_count": 97,
   "metadata": {
    "colab": {
     "base_uri": "https://localhost:8080/"
    },
    "id": "L4xyhj02iHx3",
    "outputId": "db3665ce-b88f-468d-f735-66a96d4d9c03"
   },
   "outputs": [
    {
     "name": "stderr",
     "output_type": "stream",
     "text": [
      "[nltk_data] Downloading package stopwords to /root/nltk_data...\n",
      "[nltk_data]   Package stopwords is already up-to-date!\n",
      "[nltk_data] Downloading package omw-1.4 to /root/nltk_data...\n",
      "[nltk_data]   Package omw-1.4 is already up-to-date!\n",
      "[nltk_data] Downloading package punkt to /root/nltk_data...\n",
      "[nltk_data]   Package punkt is already up-to-date!\n",
      "[nltk_data] Downloading package wordnet to /root/nltk_data...\n",
      "[nltk_data]   Package wordnet is already up-to-date!\n"
     ]
    }
   ],
   "source": [
    "import matplotlib.pyplot as plt\n",
    "\n",
    "import torch\n",
    "import torch.nn as nn\n",
    "import torch.nn.functional as F\n",
    "from torch.utils.data import DataLoader, TensorDataset\n",
    "\n",
    "import numpy as np\n",
    "import pandas as pd\n",
    "\n",
    "import re\n",
    "\n",
    "from sklearn.model_selection import train_test_split\n",
    "from sklearn.metrics import accuracy_score\n",
    "from sklearn.metrics import classification_report\n",
    "\n",
    "import nltk\n",
    "import re\n",
    "nltk.download('stopwords')\n",
    "nltk.download('omw-1.4')\n",
    "nltk.download('punkt')\n",
    "\n",
    "from nltk.corpus import stopwords\n",
    "stop_words = stopwords.words('english')\n",
    "from nltk import word_tokenize\n",
    "from nltk.stem import WordNetLemmatizer\n",
    "from nltk.stem import PorterStemmer\n",
    "lemmatizer = WordNetLemmatizer()\n",
    "stemmer = PorterStemmer()\n",
    "nltk.download('wordnet')\n",
    "\n",
    "import tqdm"
   ]
  },
  {
   "cell_type": "code",
   "execution_count": null,
   "metadata": {
    "id": "z3uWQvPP5-so"
   },
   "outputs": [],
   "source": []
  },
  {
   "cell_type": "markdown",
   "metadata": {
    "id": "k697hn-A5_VH"
   },
   "source": [
    "# Downloading data"
   ]
  },
  {
   "cell_type": "code",
   "execution_count": 2,
   "metadata": {
    "colab": {
     "base_uri": "https://localhost:8080/"
    },
    "id": "gJthMw6U-v6S",
    "outputId": "93a82b75-aac7-4d2d-be35-e374f6ff9a61"
   },
   "outputs": [
    {
     "name": "stdout",
     "output_type": "stream",
     "text": [
      "Mounted at /content/drive\n"
     ]
    }
   ],
   "source": [
    "from google.colab import drive\n",
    "drive.mount('/content/drive')"
   ]
  },
  {
   "cell_type": "code",
   "execution_count": 3,
   "metadata": {
    "id": "Y6MIiAny-wtR"
   },
   "outputs": [],
   "source": [
    "train_df = pd.DataFrame()\n",
    "for i in range(1,14,1):\n",
    "  if i<3:\n",
    "    x = pd.read_csv(f'/content/drive/MyDrive/Padhai_DL_Course/Data/ML2Lab2_LSTM/{i}.tsv',sep='\\t', encoding = \"ISO-8859-1\", names=['ID','t_id','target','tweet'])\n",
    "    x.drop(['t_id','ID'],axis=1,inplace=True)\n",
    "  else: \n",
    "    x = pd.read_csv(f'/content/drive/MyDrive/Padhai_DL_Course/Data/ML2Lab2_LSTM/{i}.txt',sep='\\t', encoding = \"ISO-8859-1\", names=['ID','target','tweet','O'])\n",
    "    x.drop(['ID','O'],axis=1,inplace=True)\n",
    "  train_df = pd.concat([train_df,x],axis=0)"
   ]
  },
  {
   "cell_type": "code",
   "execution_count": 4,
   "metadata": {
    "id": "w5xRLDHn_XeC"
   },
   "outputs": [],
   "source": [
    "col_names = [\"target\", \"ids\", \"date\", \"flag\", \"user\", \"tweet\"]\n",
    "test_df = pd.read_csv(\"/content/drive/MyDrive/Padhai_DL_Course/Data/Test_Data/testdata.manual.2009.06.14 - testdata.manual.2009.06.14.csv\", encoding = \"ISO-8859-1\", names=col_names)"
   ]
  },
  {
   "cell_type": "code",
   "execution_count": 5,
   "metadata": {
    "id": "gX5UHfPSBeNt"
   },
   "outputs": [],
   "source": [
    "test_df = test_df.drop(['ids', 'date', 'flag','user'], axis = 1)"
   ]
  },
  {
   "cell_type": "markdown",
   "metadata": {
    "id": "SSp05OiMB3P6"
   },
   "source": [
    "# Data pre-processing"
   ]
  },
  {
   "cell_type": "code",
   "execution_count": 6,
   "metadata": {
    "colab": {
     "base_uri": "https://localhost:8080/"
    },
    "id": "OWxPd51dB3Io",
    "outputId": "55a1b442-669a-45c1-d2ca-3e941e66ab9a"
   },
   "outputs": [
    {
     "data": {
      "text/plain": [
       "target    0\n",
       "tweet     0\n",
       "dtype: int64"
      ]
     },
     "execution_count": 6,
     "metadata": {},
     "output_type": "execute_result"
    }
   ],
   "source": [
    "# no null values available\n",
    "train_df.isna().sum()"
   ]
  },
  {
   "cell_type": "code",
   "execution_count": 7,
   "metadata": {
    "id": "hdsE3I6nB-81"
   },
   "outputs": [],
   "source": [
    "# changing the labels\n",
    "test_df['target'] = test_df['target'].map({2:1, 4:2, 0:0})\n",
    "train_df['target'] = train_df['target'].map({'negative' : 0, 'neutral' : 1, 'positive': 2})"
   ]
  },
  {
   "cell_type": "code",
   "execution_count": 8,
   "metadata": {
    "id": "4uurWiN1Camr"
   },
   "outputs": [],
   "source": [
    "train_df.reset_index(inplace=True, drop=True)"
   ]
  },
  {
   "cell_type": "code",
   "execution_count": 9,
   "metadata": {
    "colab": {
     "base_uri": "https://localhost:8080/",
     "height": 175
    },
    "id": "uv_-ELhSCMYz",
    "outputId": "48627adf-91b8-4d0d-9ec4-8c0c507ecfa9"
   },
   "outputs": [
    {
     "data": {
      "text/html": [
       "\n",
       "  <div id=\"df-1f73fab6-a4b1-4837-9614-90512dc49158\">\n",
       "    <div class=\"colab-df-container\">\n",
       "      <div>\n",
       "<style scoped>\n",
       "    .dataframe tbody tr th:only-of-type {\n",
       "        vertical-align: middle;\n",
       "    }\n",
       "\n",
       "    .dataframe tbody tr th {\n",
       "        vertical-align: top;\n",
       "    }\n",
       "\n",
       "    .dataframe thead th {\n",
       "        text-align: right;\n",
       "    }\n",
       "</style>\n",
       "<table border=\"1\" class=\"dataframe\">\n",
       "  <thead>\n",
       "    <tr style=\"text-align: right;\">\n",
       "      <th></th>\n",
       "      <th>tweet</th>\n",
       "    </tr>\n",
       "    <tr>\n",
       "      <th>target</th>\n",
       "      <th></th>\n",
       "    </tr>\n",
       "  </thead>\n",
       "  <tbody>\n",
       "    <tr>\n",
       "      <th>0</th>\n",
       "      <td>8507</td>\n",
       "    </tr>\n",
       "    <tr>\n",
       "      <th>1</th>\n",
       "      <td>24143</td>\n",
       "    </tr>\n",
       "    <tr>\n",
       "      <th>2</th>\n",
       "      <td>20718</td>\n",
       "    </tr>\n",
       "  </tbody>\n",
       "</table>\n",
       "</div>\n",
       "      <button class=\"colab-df-convert\" onclick=\"convertToInteractive('df-1f73fab6-a4b1-4837-9614-90512dc49158')\"\n",
       "              title=\"Convert this dataframe to an interactive table.\"\n",
       "              style=\"display:none;\">\n",
       "        \n",
       "  <svg xmlns=\"http://www.w3.org/2000/svg\" height=\"24px\"viewBox=\"0 0 24 24\"\n",
       "       width=\"24px\">\n",
       "    <path d=\"M0 0h24v24H0V0z\" fill=\"none\"/>\n",
       "    <path d=\"M18.56 5.44l.94 2.06.94-2.06 2.06-.94-2.06-.94-.94-2.06-.94 2.06-2.06.94zm-11 1L8.5 8.5l.94-2.06 2.06-.94-2.06-.94L8.5 2.5l-.94 2.06-2.06.94zm10 10l.94 2.06.94-2.06 2.06-.94-2.06-.94-.94-2.06-.94 2.06-2.06.94z\"/><path d=\"M17.41 7.96l-1.37-1.37c-.4-.4-.92-.59-1.43-.59-.52 0-1.04.2-1.43.59L10.3 9.45l-7.72 7.72c-.78.78-.78 2.05 0 2.83L4 21.41c.39.39.9.59 1.41.59.51 0 1.02-.2 1.41-.59l7.78-7.78 2.81-2.81c.8-.78.8-2.07 0-2.86zM5.41 20L4 18.59l7.72-7.72 1.47 1.35L5.41 20z\"/>\n",
       "  </svg>\n",
       "      </button>\n",
       "      \n",
       "  <style>\n",
       "    .colab-df-container {\n",
       "      display:flex;\n",
       "      flex-wrap:wrap;\n",
       "      gap: 12px;\n",
       "    }\n",
       "\n",
       "    .colab-df-convert {\n",
       "      background-color: #E8F0FE;\n",
       "      border: none;\n",
       "      border-radius: 50%;\n",
       "      cursor: pointer;\n",
       "      display: none;\n",
       "      fill: #1967D2;\n",
       "      height: 32px;\n",
       "      padding: 0 0 0 0;\n",
       "      width: 32px;\n",
       "    }\n",
       "\n",
       "    .colab-df-convert:hover {\n",
       "      background-color: #E2EBFA;\n",
       "      box-shadow: 0px 1px 2px rgba(60, 64, 67, 0.3), 0px 1px 3px 1px rgba(60, 64, 67, 0.15);\n",
       "      fill: #174EA6;\n",
       "    }\n",
       "\n",
       "    [theme=dark] .colab-df-convert {\n",
       "      background-color: #3B4455;\n",
       "      fill: #D2E3FC;\n",
       "    }\n",
       "\n",
       "    [theme=dark] .colab-df-convert:hover {\n",
       "      background-color: #434B5C;\n",
       "      box-shadow: 0px 1px 3px 1px rgba(0, 0, 0, 0.15);\n",
       "      filter: drop-shadow(0px 1px 2px rgba(0, 0, 0, 0.3));\n",
       "      fill: #FFFFFF;\n",
       "    }\n",
       "  </style>\n",
       "\n",
       "      <script>\n",
       "        const buttonEl =\n",
       "          document.querySelector('#df-1f73fab6-a4b1-4837-9614-90512dc49158 button.colab-df-convert');\n",
       "        buttonEl.style.display =\n",
       "          google.colab.kernel.accessAllowed ? 'block' : 'none';\n",
       "\n",
       "        async function convertToInteractive(key) {\n",
       "          const element = document.querySelector('#df-1f73fab6-a4b1-4837-9614-90512dc49158');\n",
       "          const dataTable =\n",
       "            await google.colab.kernel.invokeFunction('convertToInteractive',\n",
       "                                                     [key], {});\n",
       "          if (!dataTable) return;\n",
       "\n",
       "          const docLinkHtml = 'Like what you see? Visit the ' +\n",
       "            '<a target=\"_blank\" href=https://colab.research.google.com/notebooks/data_table.ipynb>data table notebook</a>'\n",
       "            + ' to learn more about interactive tables.';\n",
       "          element.innerHTML = '';\n",
       "          dataTable['output_type'] = 'display_data';\n",
       "          await google.colab.output.renderOutput(dataTable, element);\n",
       "          const docLink = document.createElement('div');\n",
       "          docLink.innerHTML = docLinkHtml;\n",
       "          element.appendChild(docLink);\n",
       "        }\n",
       "      </script>\n",
       "    </div>\n",
       "  </div>\n",
       "  "
      ],
      "text/plain": [
       "        tweet\n",
       "target       \n",
       "0        8507\n",
       "1       24143\n",
       "2       20718"
      ]
     },
     "execution_count": 9,
     "metadata": {},
     "output_type": "execute_result"
    }
   ],
   "source": [
    "train_df.groupby([\"target\"]).count()"
   ]
  },
  {
   "cell_type": "markdown",
   "metadata": {
    "id": "LDbJX11QCjsi"
   },
   "source": [
    "## we see there is class imbalance"
   ]
  },
  {
   "cell_type": "code",
   "execution_count": 10,
   "metadata": {
    "id": "0v58CZEjJxXe"
   },
   "outputs": [],
   "source": [
    "def remove_links_mentions(tweet):\n",
    "    link_re_pattern = \"https?:\\/\\/t.co/[\\w]+\"\n",
    "    mention_re_pattern = \"@\\w+\"\n",
    "    tweet = re.sub(link_re_pattern, \"\", tweet)\n",
    "    tweet = re.sub(mention_re_pattern, \"\", tweet)\n",
    "    return tweet.lower()"
   ]
  },
  {
   "cell_type": "code",
   "execution_count": 11,
   "metadata": {
    "id": "ItS8Wm7kJ4la"
   },
   "outputs": [],
   "source": [
    "train_df[\"C_tweet\"] = train_df[\"tweet\"].apply(lambda x: remove_links_mentions(x))\n",
    "test_df[\"C_tweet\"] = test_df[\"tweet\"].apply(lambda x: remove_links_mentions(x))"
   ]
  },
  {
   "cell_type": "code",
   "execution_count": 12,
   "metadata": {
    "id": "twapTABdEZ6M"
   },
   "outputs": [],
   "source": [
    "def basic_clean(bclean_data):\n",
    "    bclean_data = bclean_data[bclean_data.iloc[:,0] != 'na'] \n",
    "    bclean_data = bclean_data[bclean_data.iloc[:,1] != 'na'] # Line 5 and 6 subsets the data from null values.\n",
    "    col_name = bclean_data.columns[1]\n",
    "    bclean_data = bclean_data.drop_duplicates(subset=[col_name], keep='first') # Removing duplcates based on the column ID 1\n",
    "    bclean_data = data_clean(bclean_data) # Calls the data_clean function\n",
    "    return bclean_data\n",
    "\n",
    "    \n",
    "# functions that will perform lemmatization and stemming\n",
    "def lemmatize_text(text):\n",
    "    return \" \".join([lemmatizer.lemmatize(w) for w in word_tokenize(text)])\n",
    "\n",
    "def stem_text(text):\n",
    "    return \" \".join([stemmer.stem(w) for w in word_tokenize(text)])\n",
    "\n",
    "\n",
    "# function that will clean the data\n",
    "def data_clean(clean_data):\n",
    "    # clean_data[\"C_tweet\"] = clean_data[\"tweet\"].apply(lambda x: str(x).lower()) # Converts the text to lower\n",
    "    clean_data[\"C_tweet\"] = clean_data[\"C_tweet\"].apply(lambda x: re.sub(r'[^\\w\\s]', ' ', x)) # removes special characters\n",
    "    clean_data[\"C_tweet\"] = clean_data[\"C_tweet\"].apply(lambda x: ''.join([i for i in x if not i.isdigit()])) # removes digits\n",
    "    clean_data[\"C_tweet\"] = clean_data[\"C_tweet\"].apply(lambda x: ' '.join(x.split())) # Removes unwanted whitespaces in between\n",
    "    clean_data[\"C_tweet\"] = clean_data[\"C_tweet\"].apply(lambda x: word_tokenize(x)) # Tokenization is where the texts are converted to list\n",
    "    clean_data[\"C_tweet\"] = clean_data[\"C_tweet\"].apply(lambda x: [y for y in x if y not in stop_words]) # from the converted list the stopwords are removed\n",
    "    clean_data[\"C_tweet\"] = clean_data[\"C_tweet\"].apply(lambda x: \" \".join(x)) \n",
    "    # clean_data[\"Lem_tweet\"] = clean_data[\"C_tweet\"].apply(lambda x: lemmatize_text(x)) # function that lemmatizes the text \n",
    "    # clean_data[\"Stem_tweet\"] = clean_data[\"C_tweet\"].apply(lambda x: stem_text(x)) # function that stems the text \n",
    "    return clean_data"
   ]
  },
  {
   "cell_type": "code",
   "execution_count": 13,
   "metadata": {
    "id": "eNFSOjgPF02-"
   },
   "outputs": [],
   "source": [
    "clean_train_df = data_clean(train_df)"
   ]
  },
  {
   "cell_type": "code",
   "execution_count": 14,
   "metadata": {
    "id": "YISldzbJLC8s"
   },
   "outputs": [],
   "source": [
    "clean_train_df.drop(columns=['tweet'], inplace=True)"
   ]
  },
  {
   "cell_type": "code",
   "execution_count": 15,
   "metadata": {
    "id": "ldCfE78PLNNR"
   },
   "outputs": [],
   "source": [
    "clean_test_df = data_clean(test_df)\n",
    "clean_test_df.drop(columns=['tweet'], inplace=True)"
   ]
  },
  {
   "cell_type": "code",
   "execution_count": 16,
   "metadata": {
    "id": "jYtdo1_q24fC"
   },
   "outputs": [],
   "source": [
    "# duplicating samples among the classes in the dataset to balance out for the imbalance\n",
    "from imblearn.over_sampling import RandomOverSampler\n",
    "ros = RandomOverSampler(random_state=0)\n",
    "X_resampled, y_resampled = ros.fit_resample(clean_train_df[['C_tweet', 'target']], clean_train_df.target)"
   ]
  },
  {
   "cell_type": "code",
   "execution_count": 17,
   "metadata": {
    "id": "6rkg3ufR3PZM"
   },
   "outputs": [],
   "source": [
    "X_resampled_df = pd.DataFrame(X_resampled, columns=clean_train_df.columns)"
   ]
  },
  {
   "cell_type": "code",
   "execution_count": 18,
   "metadata": {
    "id": "MccYRltEJfZv"
   },
   "outputs": [],
   "source": [
    "X_train, X_val = train_test_split(X_resampled_df, test_size=0.2, random_state=1, stratify=X_resampled_df[\"target\"])"
   ]
  },
  {
   "cell_type": "markdown",
   "metadata": {
    "id": "StRckIm7LQ8J"
   },
   "source": [
    "# Train Test Case"
   ]
  },
  {
   "cell_type": "code",
   "execution_count": 19,
   "metadata": {
    "id": "5Tbo8RZlHAcH"
   },
   "outputs": [],
   "source": [
    "train_set1 = list(X_train.to_records(index = False))\n",
    "val_set1 = list(X_val.to_records(index = False))\n",
    "test_set1 = list(clean_test_df.to_records(index = False))\n",
    "\n",
    "# train_set2 = list(train_df[[\"target\", \"Lem_tweet\"]].to_records(index = False))\n",
    "# test_set2 = list(test_df[[\"target\", \"Lem_tweet\"]].to_records(index = False))\n",
    "\n",
    "# train_set3 = list(train_df[[\"target\", \"Stem_tweet\"]].to_records(index = False))\n",
    "# test_set3 = list(test_df[[\"target\", \"Stem_tweet\"]].to_records(index = False))"
   ]
  },
  {
   "cell_type": "markdown",
   "metadata": {
    "id": "sp7gWc38MZlr"
   },
   "source": [
    "# Tokenization"
   ]
  },
  {
   "cell_type": "code",
   "execution_count": 20,
   "metadata": {
    "id": "BA4KLHznL58h"
   },
   "outputs": [],
   "source": [
    "train_set_tok_1 = [(label, word_tokenize(tweet)) for label, tweet in train_set1]\n",
    "val_set_tok_1 = [(label, word_tokenize(tweet)) for label, tweet in val_set1]\n",
    "test_set_tok_1 = [(label, word_tokenize(tweet)) for label, tweet in test_set1]\n",
    "\n",
    "# train_set_tok_2 = [(label, word_tokenize(tweet)) for label, tweet in train_set2]\n",
    "# test_set_tok_2 = [(label, word_tokenize(tweet)) for label, tweet in test_set2]\n",
    "\n",
    "# train_set_tok_3 = [(label, word_tokenize(tweet)) for label, tweet in train_set3]\n",
    "# test_set_tok_3 = [(label, word_tokenize(tweet)) for label, tweet in test_set3]"
   ]
  },
  {
   "cell_type": "code",
   "execution_count": 21,
   "metadata": {
    "id": "qMikpjdrNnCz"
   },
   "outputs": [],
   "source": [
    "def create_vocab(train_set, val_set, test_set):\n",
    "  index2word = [\"<PAD>\", \"<SOS>\", \"<EOS>\"]\n",
    "  \n",
    "  for ds in [train_set, val_set, test_set]:\n",
    "    for label, tweet in ds:\n",
    "      for token in tweet:\n",
    "        if token not in index2word:\n",
    "          index2word.append(token)\n",
    "  return index2word"
   ]
  },
  {
   "cell_type": "code",
   "execution_count": 22,
   "metadata": {
    "id": "-lwoHIOjNL4S"
   },
   "outputs": [],
   "source": [
    "index2word1 = create_vocab(train_set_tok_1, val_set_tok_1, test_set_tok_1)\n",
    "# index2word2 = create_vocab(train_set_tok_2, test_set_tok_2)\n",
    "# index2word3 = create_vocab(train_set_tok_3, test_set_tok_3)"
   ]
  },
  {
   "cell_type": "code",
   "execution_count": 23,
   "metadata": {
    "colab": {
     "base_uri": "https://localhost:8080/"
    },
    "id": "wC9TVHhRj14u",
    "outputId": "fb5191dc-bec5-4f10-9b89-49b18f86cd16"
   },
   "outputs": [
    {
     "name": "stdout",
     "output_type": "stream",
     "text": [
      "Maximum sequence in train 573\n",
      "Maximum sequence in test 21\n"
     ]
    }
   ],
   "source": [
    "# prnting the maximum lenght squence from the\n",
    "print(f'Maximum sequence in train {max(train_df[\"C_tweet\"].str.split().apply(lambda x:len(x)))}')\n",
    "# print(f'Maximum sequence in train {max(val_set[\"C_tweet\"].str.split().apply(lambda x:len(x)))}')\n",
    "print(f'Maximum sequence in test {max(test_df[\"C_tweet\"].str.split().apply(lambda x:len(x)))}')"
   ]
  },
  {
   "cell_type": "code",
   "execution_count": 24,
   "metadata": {
    "colab": {
     "base_uri": "https://localhost:8080/",
     "height": 265
    },
    "id": "-0f7xk7vdobY",
    "outputId": "64206572-c697-4051-a664-128ead46c9a9"
   },
   "outputs": [
    {
     "data": {
      "image/png": "[encoded data removed]",
      "text/plain": [
       "<Figure size 432x288 with 1 Axes>"
      ]
     },
     "metadata": {
      "needs_background": "light"
     },
     "output_type": "display_data"
    }
   ],
   "source": [
    "plt.hist(train_df[\"C_tweet\"].str.split().apply(lambda x:len(x)).tolist(), 100, range=[0, 100]);"
   ]
  },
  {
   "cell_type": "code",
   "execution_count": 25,
   "metadata": {
    "colab": {
     "base_uri": "https://localhost:8080/",
     "height": 265
    },
    "id": "rkD4VblCd73v",
    "outputId": "2096b253-1485-4309-fd34-f6740624e4b7"
   },
   "outputs": [
    {
     "data": {
      "image/png": "[encoded data removed]",
      "text/plain": [
       "<Figure size 432x288 with 1 Axes>"
      ]
     },
     "metadata": {
      "needs_background": "light"
     },
     "output_type": "display_data"
    }
   ],
   "source": [
    "plt.hist(test_df[\"C_tweet\"].str.split().apply(lambda x:len(x)).tolist(), 100, range=[0, 100]);"
   ]
  },
  {
   "cell_type": "markdown",
   "metadata": {
    "id": "ZPOpbSBnoOg9"
   },
   "source": [
    "## Although we see that the max length of the sequences in train case is higher, and in the distribution we see most of it are in the range of (1, 40). So we will have to truncate the sequence to a number that would have capture most of the data"
   ]
  },
  {
   "cell_type": "code",
   "execution_count": 26,
   "metadata": {
    "id": "WBpEuFaSo51g"
   },
   "outputs": [],
   "source": [
    "seq_length = 32"
   ]
  },
  {
   "cell_type": "code",
   "execution_count": 27,
   "metadata": {
    "id": "nOjocahYphRr"
   },
   "outputs": [],
   "source": [
    "def encode_and_pad(tweet, length):\n",
    "    sos = [index2word[\"<SOS>\"]]\n",
    "    eos = [index2word[\"<EOS>\"]]\n",
    "    pad = [index2word[\"<PAD>\"]]\n",
    "\n",
    "    if len(tweet) < length - 2: # -2 for SOS and EOS\n",
    "        n_pads = length - 2 - len(tweet)\n",
    "        encoded = [index2word[w] for w in tweet]\n",
    "        return sos + encoded + eos + pad * n_pads \n",
    "    else: # tweet is longer than possible; truncating\n",
    "        encoded = [index2word[w] for w in tweet]\n",
    "        truncated = encoded[:length - 2]\n",
    "        return sos + truncated + eos"
   ]
  },
  {
   "cell_type": "code",
   "execution_count": 28,
   "metadata": {
    "id": "83Y6fhWDKEIS"
   },
   "outputs": [],
   "source": [
    "index2word = {word : i  for i, word in enumerate(index2word1)}"
   ]
  },
  {
   "cell_type": "code",
   "execution_count": 29,
   "metadata": {
    "id": "OQV5mpuKvhaZ"
   },
   "outputs": [],
   "source": [
    "train_encoded = [(encode_and_pad(tweet[1], seq_length), tweet[0]) for tweet in train_set_tok_1]\n",
    "val_encoded = [(encode_and_pad(tweet[1], seq_length), tweet[0]) for tweet in val_set_tok_1]\n",
    "test_encoded = [(encode_and_pad(tweet[1], seq_length), tweet[0]) for tweet in test_set_tok_1]"
   ]
  },
  {
   "cell_type": "code",
   "execution_count": 30,
   "metadata": {
    "id": "CWH283iSOjk4"
   },
   "outputs": [],
   "source": [
    "train_x = np.array([tweet for tweet, label in train_encoded])\n",
    "train_y = np.array([label for tweet, label in train_encoded])\n",
    "\n",
    "val_x = np.array([tweet for tweet, label in val_encoded])\n",
    "val_y = np.array([label for tweet, label in val_encoded])\n",
    "\n",
    "test_x = np.array([tweet for tweet, label in test_encoded])\n",
    "test_y = np.array([label for tweet, label in test_encoded])"
   ]
  },
  {
   "cell_type": "code",
   "execution_count": 31,
   "metadata": {
    "id": "SuiT1tY1PfFZ"
   },
   "outputs": [],
   "source": [
    "train_ids = TensorDataset(torch.from_numpy(train_x), torch.from_numpy(train_y))\n",
    "val_ids = TensorDataset(torch.from_numpy(val_x), torch.from_numpy(val_y))\n",
    "test_ids = TensorDataset(torch.from_numpy(test_x), torch.from_numpy(test_y))"
   ]
  },
  {
   "cell_type": "code",
   "execution_count": 32,
   "metadata": {
    "id": "-j-GwusKTV66"
   },
   "outputs": [],
   "source": [
    "batch_size = 8\n",
    "train_dl = DataLoader(train_ids, shuffle=True, batch_size=batch_size, drop_last=True)\n",
    "valid_dl = DataLoader(val_ids, shuffle=True, batch_size=batch_size, drop_last=True)\n",
    "test_dl = DataLoader(test_ids, shuffle=True, batch_size=batch_size, drop_last=True)"
   ]
  },
  {
   "cell_type": "markdown",
   "metadata": {
    "id": "wZAdVTAcwbfY"
   },
   "source": [
    "# Modelling part"
   ]
  },
  {
   "cell_type": "markdown",
   "metadata": {
    "id": "vcgQsV2OddWm"
   },
   "source": [
    "# LSTM"
   ]
  },
  {
   "cell_type": "code",
   "execution_count": 33,
   "metadata": {
    "id": "DddecJywwe8A"
   },
   "outputs": [],
   "source": [
    "class LSTM_SentimentAnalysis(torch.nn.Module) :\n",
    "    def __init__(self, vocab_size, embedding_dim, hidden_dim, dropout) :\n",
    "        super().__init__()\n",
    "        self.embedding = nn.Embedding(vocab_size, embedding_dim, padding_idx=0)\n",
    "\n",
    "\n",
    "        self.lstm = nn.LSTM(embedding_dim, hidden_dim, batch_first=True)\n",
    "\n",
    "        self.dropout = nn.Dropout(dropout)\n",
    "\n",
    "        self.fc = nn.Linear(hidden_dim, 3)\n",
    "\n",
    "    def forward(self, x, hidden):\n",
    "        \"\"\"\n",
    "        The forward method takes in the input and the previous hidden state \n",
    "        \"\"\"\n",
    "\n",
    "        embs = self.embedding(x)\n",
    "\n",
    "        out, hidden = self.lstm(embs, hidden)\n",
    "\n",
    "        out = self.dropout(out)\n",
    "        out = self.fc(out)\n",
    "\n",
    "        out = out[:, -1]\n",
    "        return out, hidden\n",
    "    \n",
    "    def init_hidden(self):\n",
    "        return (torch.zeros(1, batch_size, 32), torch.zeros(1, batch_size, 32))"
   ]
  },
  {
   "cell_type": "code",
   "execution_count": 34,
   "metadata": {
    "colab": {
     "base_uri": "https://localhost:8080/"
    },
    "id": "lN4FuxEk66IG",
    "outputId": "d727f075-410d-459c-f81c-d0a396891793"
   },
   "outputs": [
    {
     "data": {
      "text/plain": [
       "0"
      ]
     },
     "execution_count": 34,
     "metadata": {},
     "output_type": "execute_result"
    }
   ],
   "source": [
    "import gc\n",
    "torch.cuda.empty_cache()\n",
    "gc.collect()"
   ]
  },
  {
   "cell_type": "code",
   "execution_count": 35,
   "metadata": {
    "colab": {
     "base_uri": "https://localhost:8080/"
    },
    "id": "CiMQTNC6xh8Y",
    "outputId": "be7db50d-cc05-49a0-a539-42039b5106d6"
   },
   "outputs": [
    {
     "data": {
      "text/plain": [
       "device(type='cuda')"
      ]
     },
     "execution_count": 35,
     "metadata": {},
     "output_type": "execute_result"
    }
   ],
   "source": [
    "device = torch.device('cuda' if torch.cuda.is_available() else 'cpu')\n",
    "device"
   ]
  },
  {
   "cell_type": "code",
   "execution_count": 40,
   "metadata": {
    "id": "_KezEo6kxkCY"
   },
   "outputs": [],
   "source": [
    "lstm_model = LSTM_SentimentAnalysis(len(index2word), 64, 32, 0.2)\n",
    "lstm_model.load_state_dict(torch.load(\"/content/best_model_LSTM.pt\"))\n",
    "lstm_model = lstm_model.to(device)"
   ]
  },
  {
   "cell_type": "code",
   "execution_count": 42,
   "metadata": {
    "id": "0TF762t7x_Rp"
   },
   "outputs": [],
   "source": [
    "criterion_lstm = nn.CrossEntropyLoss()\n",
    "optimizer_lstm = torch.optim.Adam(lstm_model.parameters(), lr = 3e-4)"
   ]
  },
  {
   "cell_type": "code",
   "execution_count": 40,
   "metadata": {
    "id": "LH2QNj3dPfVx"
   },
   "outputs": [],
   "source": [
    "def train_fn(model, dataloader, optimizer, criterion, h0, c0):\n",
    "  model.train()\n",
    "\n",
    "  total_train_loss = 0.0\n",
    "\n",
    "  for inputs, targets in dataloader:\n",
    "\n",
    "    inputs = inputs.to(device)\n",
    "    targets = targets.to(device)\n",
    "\n",
    "    optimizer.zero_grad()\n",
    "    out, hidden = model(inputs, (h0, c0))\n",
    "    loss = criterion(out, targets)\n",
    "    loss.backward()\n",
    "    optimizer.step()\n",
    "    total_train_loss += loss.item()\n",
    "  return total_train_loss / len(dataloader)"
   ]
  },
  {
   "cell_type": "code",
   "execution_count": 41,
   "metadata": {
    "id": "dHVtwkCFQtVO"
   },
   "outputs": [],
   "source": [
    "def eval_fn(model, dataloader, criterion, h0, c0):\n",
    "\n",
    "  model.eval()\n",
    "  total_val_loss = 0.0\n",
    "\n",
    "  with torch.no_grad():\n",
    "\n",
    "    for inputs, targets in dataloader:\n",
    "\n",
    "      inputs = inputs.to(device)\n",
    "      targets = targets.to(device)\n",
    "      out, hidden = model(inputs, (h0, c0))\n",
    "      loss = criterion(out, targets)\n",
    "      total_val_loss += loss.item()\n",
    "  return total_val_loss / len(dataloader)"
   ]
  },
  {
   "cell_type": "code",
   "execution_count": null,
   "metadata": {
    "colab": {
     "base_uri": "https://localhost:8080/"
    },
    "id": "lw1AhFTEyLl5",
    "outputId": "58198ee3-30b8-4b66-d29c-31f8eaf1dbe1"
   },
   "outputs": [
    {
     "name": "stdout",
     "output_type": "stream",
     "text": [
      "Saved Model\n",
      "After epoch 0 the train loss is: 1.0992015155762211, validation loss is 1.098761499191516\n",
      "Saved Model\n",
      "After epoch 1 the train loss is: 1.0612978341088246, validation loss is 0.9799163512103466\n",
      "Saved Model\n",
      "After epoch 2 the train loss is: 0.9015792749001156, validation loss is 0.8765385657878212\n",
      "Saved Model\n",
      "After epoch 3 the train loss is: 0.7858651386205086, validation loss is 0.8446291377119597\n",
      "Saved Model\n",
      "After epoch 4 the train loss is: 0.7032650533700411, validation loss is 0.8014860699930902\n",
      "Saved Model\n",
      "After epoch 5 the train loss is: 0.6319047142415869, validation loss is 0.7745425068871092\n",
      "Saved Model\n",
      "After epoch 6 the train loss is: 0.5656150928329398, validation loss is 0.773010488397838\n",
      "After epoch 7 the train loss is: 0.5081905077410375, validation loss is 0.7891923941795339\n",
      "After epoch 8 the train loss is: 0.4565865238140821, validation loss is 0.7734006768679091\n",
      "After epoch 9 the train loss is: 0.41061048453518884, validation loss is 0.7842438968711466\n",
      "After epoch 10 the train loss is: 0.3692206439940998, validation loss is 0.8353223885702823\n",
      "After epoch 11 the train loss is: 0.33498464058930333, validation loss is 0.8127520482390296\n",
      "After epoch 12 the train loss is: 0.30549677370786893, validation loss is 0.8151354849616385\n",
      "After epoch 13 the train loss is: 0.27915880703967855, validation loss is 0.9347969144654784\n",
      "After epoch 14 the train loss is: 0.256134818141904, validation loss is 0.9100381782371036\n",
      "After epoch 15 the train loss is: 0.23214855031332823, validation loss is 0.8826941321681135\n",
      "After epoch 16 the train loss is: 0.21440295088013597, validation loss is 0.8883583452084323\n",
      "After epoch 17 the train loss is: 0.19504994590805566, validation loss is 0.9653536887479256\n",
      "After epoch 18 the train loss is: 0.18073043201681463, validation loss is 0.9904506136133279\n",
      "After epoch 19 the train loss is: 0.16817640654648325, validation loss is 0.9802623328351472\n"
     ]
    }
   ],
   "source": [
    "epochs = 20\n",
    "best_val_loss = np.Inf\n",
    "losses = []\n",
    "val_losses = []\n",
    "for e in range(epochs):\n",
    "\n",
    "    h0, c0 =  lstm_model.init_hidden()\n",
    "\n",
    "    h0 = h0.to(device)\n",
    "    c0 = c0.to(device)\n",
    "\n",
    "    train_loss = train_fn(lstm_model, train_dl, optimizer_lstm, criterion_lstm, h0, c0)\n",
    "    val_loss = eval_fn(lstm_model, valid_dl, criterion_lstm, h0, c0)\n",
    "\n",
    "    if val_loss < best_val_loss:\n",
    "      torch.save(lstm_model.state_dict(), 'best_model.pt')\n",
    "      print(\"Saved Model\")\n",
    "      best_val_loss = val_loss    \n",
    "    \n",
    "    print(f\"After epoch {e} the train loss is: {train_loss}, validation loss is {val_loss}\")\n",
    "    val_losses.append(val_loss)\n",
    "    losses.append(train_loss)"
   ]
  },
  {
   "cell_type": "code",
   "execution_count": null,
   "metadata": {
    "colab": {
     "base_uri": "https://localhost:8080/",
     "height": 281
    },
    "id": "a2PqzKBeY0aX",
    "outputId": "8f4efffd-d1d8-43cf-d363-5a8ab4b8de7e"
   },
   "outputs": [
    {
     "data": {
      "image/png": "[encoded data removed]",
      "text/plain": [
       "<Figure size 432x288 with 1 Axes>"
      ]
     },
     "metadata": {
      "needs_background": "light"
     },
     "output_type": "display_data"
    }
   ],
   "source": [
    "# A clear case of overfitting\n",
    "plt.plot([i for i in range(20)], losses, label = 'training losss')\n",
    "plt.plot(val_losses, label = 'validation loss')\n",
    "plt.title(\"LSTM performance\")\n",
    "plt.legend()\n",
    "plt.show()"
   ]
  },
  {
   "cell_type": "code",
   "execution_count": 38,
   "metadata": {
    "colab": {
     "base_uri": "https://localhost:8080/"
    },
    "id": "5AamH5dq3ash",
    "outputId": "d9c192e1-e589-44ab-a769-4f57a4c57bfb"
   },
   "outputs": [
    {
     "name": "stdout",
     "output_type": "stream",
     "text": [
      "tensor([    1, 44012,  6480, 16607,   487,  2338,    23,     2,     0,     0,\n",
      "            0,     0,     0,     0,     0,     0,     0,     0,     0,     0,\n",
      "            0,     0,     0,     0,     0,     0,     0,     0,     0,     0,\n",
      "            0,     0]) tensor(2)\n"
     ]
    }
   ],
   "source": [
    "for i, j in test_ids:\n",
    "  print(i, j)\n",
    "  break"
   ]
  },
  {
   "cell_type": "code",
   "execution_count": 90,
   "metadata": {
    "id": "7rvJAOZ41wsA"
   },
   "outputs": [],
   "source": [
    "def predict(model, dataloader, optimizer, lstm = None):\n",
    "  predictions = []\n",
    "  targets = []\n",
    "\n",
    "  for batch_idx, batch in enumerate(dataloader):\n",
    "\n",
    "    if lstm:\n",
    "      h0, c0 =  model.init_hidden()\n",
    "      h0 = h0.to(device)\n",
    "      c0 = c0.to(device)\n",
    "\n",
    "    input = batch[0].to(device)\n",
    "    target = batch[1].to(device)\n",
    "\n",
    "    optimizer.zero_grad()\n",
    "    with torch.set_grad_enabled(False):\n",
    "      if lstm:\n",
    "        out, hidden = model(input, (h0, c0))\n",
    "        _, preds = torch.max(out, 1)\n",
    "      else: \n",
    "        out = model(input)\n",
    "        _, preds = torch.max(F.softmax(out.squeeze(0), dim=-1), 1)\n",
    "      preds = preds.to(\"cpu\").tolist()\n",
    "      targets_ = target.to(\"cpu\").tolist()\n",
    "      predictions.extend(preds)\n",
    "      targets.extend(targets_)\n",
    "  \n",
    "  return predictions, targets"
   ]
  },
  {
   "cell_type": "code",
   "execution_count": 55,
   "metadata": {
    "colab": {
     "base_uri": "https://localhost:8080/"
    },
    "id": "HScGlpCM2d3q",
    "outputId": "4760de47-1a76-41ce-d4ad-79263981831e"
   },
   "outputs": [
    {
     "data": {
      "text/plain": [
       "0.5866935483870968"
      ]
     },
     "execution_count": 55,
     "metadata": {},
     "output_type": "execute_result"
    }
   ],
   "source": [
    "batch_acc = []\n",
    "\n",
    "# lstm_model.load_state_dict(torch.load('/content/best_model.pt'))\n",
    "\n",
    "lstm_model = LSTM_SentimentAnalysis(len(index2word), 64, 32, 0.2)\n",
    "lstm_model.load_state_dict(torch.load(\"/content/best_model_LSTM.pt\"))\n",
    "lstm_model = lstm_model.to(device)\n",
    "\n",
    "for batch_idx, batch in enumerate(test_dl):\n",
    "  \n",
    "  h0, c0 =  lstm_model.init_hidden()\n",
    "  \n",
    "  input = batch[0].to(device)\n",
    "  target = batch[1].to(device)\n",
    "\n",
    "  h0 = h0.to(device)\n",
    "  c0 = c0.to(device)\n",
    "\n",
    "  optimizer_lstm.zero_grad()\n",
    "  with torch.set_grad_enabled(False):\n",
    "      out, hidden = lstm_model(input, (h0, c0))\n",
    "      _, preds = torch.max(out, 1)\n",
    "      preds = preds.to(\"cpu\").tolist()\n",
    "      batch_acc.append(accuracy_score(preds, target.tolist()))\n",
    "\n",
    "sum(batch_acc)/len(batch_acc)"
   ]
  },
  {
   "cell_type": "code",
   "execution_count": null,
   "metadata": {
    "id": "WUSnFthy8yAp"
   },
   "outputs": [],
   "source": []
  },
  {
   "cell_type": "markdown",
   "metadata": {
    "id": "Oy2p_tmJdYvh"
   },
   "source": [
    "# GRU"
   ]
  },
  {
   "cell_type": "code",
   "execution_count": 54,
   "metadata": {
    "id": "3dkkTKzSBsYv"
   },
   "outputs": [],
   "source": [
    "class GRU(nn.Module):\n",
    "    def __init__(self, input_dim, embedding_dim, hidden_dim, output_dim, dropout):\n",
    "        super().__init__()\n",
    "        self.embedding = nn.Embedding(input_dim, embedding_dim, padding_idx = 0)\n",
    "        self.rnn = nn.GRU(embedding_dim, hidden_dim, dropout=dropout, batch_first = True)\n",
    "        self.fc = nn.Linear(hidden_dim, output_dim)\n",
    "        self.dropout = nn.Dropout(dropout)\n",
    "    \n",
    "    def forward(self, x):\n",
    "\n",
    "        #x = [sent len, batch size]\n",
    "        \n",
    "        embedded = self.dropout(self.embedding(x))        \n",
    "        output, hidden = self.rnn(embedded)\n",
    "        # assert torch.equal(output[-1,:,:], hidden.squeeze(0))\n",
    "        hidden = self.dropout(hidden)\n",
    "        out = self.fc(hidden)\n",
    "        return out"
   ]
  },
  {
   "cell_type": "code",
   "execution_count": 55,
   "metadata": {
    "colab": {
     "base_uri": "https://localhost:8080/"
    },
    "id": "2v-WgxYVBy7C",
    "outputId": "315e1c55-464b-4cba-e1e8-2d7f77bdc2c0"
   },
   "outputs": [
    {
     "name": "stderr",
     "output_type": "stream",
     "text": [
      "/usr/local/lib/python3.8/dist-packages/torch/nn/modules/rnn.py:67: UserWarning: dropout option adds dropout after all but last recurrent layer, so non-zero dropout expects num_layers greater than 1, but got dropout=0.2 and num_layers=1\n",
      "  warnings.warn(\"dropout option adds dropout after all but last \"\n"
     ]
    }
   ],
   "source": [
    "INPUT_DIM =len(index2word)\n",
    "EMBEDDING_DIM = 300\n",
    "HIDDEN_DIM = 300\n",
    "OUTPUT_DIM = 3\n",
    "DROPOUT = 0.2\n",
    "\n",
    "model_gru = GRU(INPUT_DIM, EMBEDDING_DIM, HIDDEN_DIM, OUTPUT_DIM, DROPOUT)\n",
    "model_gru.load_state_dict(torch.load(\"/content/best_model_GRU.pt\"))\n",
    "model_gru = model_gru.to(device)"
   ]
  },
  {
   "cell_type": "code",
   "execution_count": 56,
   "metadata": {
    "id": "3yHbXjqEDpCz"
   },
   "outputs": [],
   "source": [
    "optimizer = torch.optim.Adam(model_gru.parameters(), lr=0.00003)\n",
    "\n",
    "criterion = nn.CrossEntropyLoss()\n",
    "criterion = criterion.to(device)"
   ]
  },
  {
   "cell_type": "code",
   "execution_count": 57,
   "metadata": {
    "id": "JdUDw-laEOzE"
   },
   "outputs": [],
   "source": [
    "def train(model, dataloader, optimizer, criterion):\n",
    "    \n",
    "    epoch_loss = 0\n",
    "    \n",
    "    model.train()\n",
    "\n",
    "    for inputs, targets in dataloader:\n",
    "\n",
    "      inputs = inputs.to(device)\n",
    "      targets = targets.to(device)\n",
    "        \n",
    "      optimizer.zero_grad()\n",
    "\n",
    "      predictions = model(inputs).squeeze(0)\n",
    "\n",
    "      loss = criterion(predictions, targets)\n",
    "      \n",
    "      loss.backward()\n",
    "      \n",
    "      optimizer.step()\n",
    "      \n",
    "      epoch_loss += loss.item()\n",
    "    \n",
    "    return epoch_loss / len(dataloader)"
   ]
  },
  {
   "cell_type": "code",
   "execution_count": 58,
   "metadata": {
    "id": "hT1LWmnvxZX2"
   },
   "outputs": [],
   "source": [
    "def eval(model, dataloader, criterion):\n",
    "\n",
    "  model.eval()\n",
    "  total_val_loss = 0.0\n",
    "\n",
    "  with torch.no_grad():\n",
    "\n",
    "    for inputs, targets in dataloader:\n",
    "\n",
    "      inputs = inputs.to(device)\n",
    "      targets = targets.to(device)\n",
    "      out = model(inputs).squeeze(0)\n",
    "      loss = criterion(out, targets)\n",
    "\n",
    "      total_val_loss += loss.item()\n",
    "    \n",
    "  return total_val_loss / len(dataloader)"
   ]
  },
  {
   "cell_type": "code",
   "execution_count": null,
   "metadata": {
    "colab": {
     "base_uri": "https://localhost:8080/"
    },
    "id": "s-AtlfrpDvVo",
    "outputId": "781e0ebe-d08e-477c-b10f-287dd528ac4c"
   },
   "outputs": [
    {
     "name": "stdout",
     "output_type": "stream",
     "text": [
      "Saved Model\n",
      "After epoch 0 the train loss is: 1.0987922246203967, validation loss is 1.098661751378307\n",
      "Saved Model\n",
      "After epoch 1 the train loss is: 1.0520582665267224, validation loss is 0.9714048356147102\n",
      "Saved Model\n",
      "After epoch 2 the train loss is: 0.9315366649933857, validation loss is 0.886809446452731\n",
      "Saved Model\n",
      "After epoch 3 the train loss is: 0.8590961271879983, validation loss is 0.8575963189588726\n",
      "Saved Model\n",
      "After epoch 4 the train loss is: 0.8101392734658979, validation loss is 0.8194094537206776\n",
      "Saved Model\n",
      "After epoch 5 the train loss is: 0.7714051706636686, validation loss is 0.792265375905274\n",
      "After epoch 6 the train loss is: 0.7354880670459518, validation loss is 0.810277839671841\n",
      "Saved Model\n",
      "After epoch 7 the train loss is: 0.7040231471083435, validation loss is 0.7697643800170382\n",
      "Saved Model\n",
      "After epoch 8 the train loss is: 0.6749349877915225, validation loss is 0.7530664671191853\n",
      "After epoch 9 the train loss is: 0.645867682055145, validation loss is 0.7540338220146808\n",
      "Saved Model\n",
      "After epoch 10 the train loss is: 0.6229507369060019, validation loss is 0.7367503516334855\n",
      "After epoch 11 the train loss is: 0.597319763461403, validation loss is 0.7460342821701126\n",
      "Saved Model\n",
      "After epoch 12 the train loss is: 0.5777223065399812, validation loss is 0.7360625905988131\n",
      "Saved Model\n",
      "After epoch 13 the train loss is: 0.5579586188588986, validation loss is 0.7091961639207782\n",
      "After epoch 14 the train loss is: 0.535725782353002, validation loss is 0.714169310029205\n",
      "Saved Model\n",
      "After epoch 15 the train loss is: 0.5202322692811712, validation loss is 0.6874254543725298\n",
      "Saved Model\n",
      "After epoch 16 the train loss is: 0.5026507041288719, validation loss is 0.6671210163494171\n",
      "After epoch 17 the train loss is: 0.47988047232340586, validation loss is 0.6747331872788253\n",
      "After epoch 18 the train loss is: 0.4686085678877767, validation loss is 0.710277204147607\n",
      "After epoch 19 the train loss is: 0.4532651065667956, validation loss is 0.6784323693639007\n"
     ]
    }
   ],
   "source": [
    "N_EPOCHS = 20\n",
    "best_val_loss = np.Inf\n",
    "train_gru_loss = []\n",
    "train_val_loss = []\n",
    "\n",
    "for epoch in range(N_EPOCHS):\n",
    "    train_loss = train(model_gru, train_dl, optimizer, criterion)\n",
    "    val_loss = eval(model_gru, valid_dl, criterion)\n",
    "\n",
    "    train_gru_loss.append(train_loss)\n",
    "    train_gru_loss.append(val_loss)\n",
    "\n",
    "    if best_val_loss > val_loss:\n",
    "      torch.save(model_gru.state_dict(), 'best_model_GRU.pt')\n",
    "      print(\"Saved Model\")\n",
    "      best_val_loss = val_loss    \n",
    "    \n",
    "    print(f\"After epoch {epoch} the train loss is: {train_loss}, validation loss is {val_loss}\")"
   ]
  },
  {
   "cell_type": "code",
   "execution_count": null,
   "metadata": {
    "colab": {
     "base_uri": "https://localhost:8080/",
     "height": 281
    },
    "id": "U5JEGgy80G43",
    "outputId": "73e92770-9e74-4451-faf6-bc4cfc155931"
   },
   "outputs": [
    {
     "data": {
      "image/png": "[encoded data removed]",
      "text/plain": [
       "<Figure size 432x288 with 1 Axes>"
      ]
     },
     "metadata": {
      "needs_background": "light"
     },
     "output_type": "display_data"
    }
   ],
   "source": [
    "plt.plot([i for i in range(20)], train_gru_loss[0::2], label = 'training losss')\n",
    "plt.plot(train_gru_loss[1::2], label = 'validation loss')\n",
    "plt.title(\"GRU performance\")\n",
    "plt.legend()\n",
    "plt.show()"
   ]
  },
  {
   "cell_type": "markdown",
   "metadata": {
    "id": "hNWG4OHcdVap"
   },
   "source": [
    "# Comparison (LSTM VS GRU)\n"
   ]
  },
  {
   "cell_type": "code",
   "execution_count": 114,
   "metadata": {
    "colab": {
     "base_uri": "https://localhost:8080/"
    },
    "id": "9ucmei6lABmE",
    "outputId": "cbf9dc5f-31c1-4f64-db7e-87152bb714da"
   },
   "outputs": [
    {
     "data": {
      "text/plain": [
       "0.5887096774193549"
      ]
     },
     "execution_count": 114,
     "metadata": {},
     "output_type": "execute_result"
    }
   ],
   "source": [
    "preds_lstm, target_lstm = predict(lstm_model, test_dl, optimizer_lstm, True)\n",
    "accuracy_score(preds_lstm, target_lstm)"
   ]
  },
  {
   "cell_type": "code",
   "execution_count": 112,
   "metadata": {
    "colab": {
     "base_uri": "https://localhost:8080/"
    },
    "id": "wRS7YQ2UfX07",
    "outputId": "8c6bcf44-b389-4787-d307-80fed1fbc2ef"
   },
   "outputs": [
    {
     "data": {
      "text/plain": [
       "0.6189516129032258"
      ]
     },
     "execution_count": 112,
     "metadata": {},
     "output_type": "execute_result"
    }
   ],
   "source": [
    "preds_GRU, target_GRU = predict(model_gru, test_dl, optimizer, False)\n",
    "accuracy_score(preds_GRU, target_GRU)"
   ]
  },
  {
   "cell_type": "code",
   "execution_count": 115,
   "metadata": {
    "colab": {
     "base_uri": "https://localhost:8080/"
    },
    "id": "ApKa8zLRAmcE",
    "outputId": "17ed1ebe-5e1f-47d3-ac26-8b9ab7bc1307"
   },
   "outputs": [
    {
     "name": "stdout",
     "output_type": "stream",
     "text": [
      "              precision    recall  f1-score   support\n",
      "\n",
      "           0       0.72      0.59      0.65       177\n",
      "           1       0.41      0.66      0.51       137\n",
      "           2       0.73      0.54      0.62       182\n",
      "\n",
      "    accuracy                           0.59       496\n",
      "   macro avg       0.62      0.59      0.59       496\n",
      "weighted avg       0.64      0.59      0.60       496\n",
      "\n"
     ]
    }
   ],
   "source": [
    "# LSTM comparison\n",
    "print(classification_report(target_lstm, preds_lstm))"
   ]
  },
  {
   "cell_type": "code",
   "execution_count": 117,
   "metadata": {
    "colab": {
     "base_uri": "https://localhost:8080/"
    },
    "id": "LEBCuQg0AyT0",
    "outputId": "416e7066-d1fb-4146-bff0-fbda5c940d3f"
   },
   "outputs": [
    {
     "name": "stdout",
     "output_type": "stream",
     "text": [
      "              precision    recall  f1-score   support\n",
      "\n",
      "           0       0.81      0.56      0.66       177\n",
      "           1       0.44      0.76      0.56       138\n",
      "           2       0.76      0.57      0.65       181\n",
      "\n",
      "    accuracy                           0.62       496\n",
      "   macro avg       0.67      0.63      0.62       496\n",
      "weighted avg       0.69      0.62      0.63       496\n",
      "\n"
     ]
    }
   ],
   "source": [
    "print(classification_report(target_GRU, preds_GRU))"
   ]
  },
  {
   "cell_type": "markdown",
   "metadata": {
    "id": "sm5_Z-OJBZGm"
   },
   "source": [
    "GRU is simpler when compared to LSTM because of the absence of a seprate forget gate unlike LSTM. So, there are fewer parameters to learn in in GRU when compared to LSTM. Also, considering the small amount of data that we have in our case GRU is a good choice because of the faster computation and inexpensive resources. LSTMs perform in retaining the longer sequence of sentences."
   ]
  },
  {
   "cell_type": "code",
   "execution_count": 118,
   "metadata": {
    "id": "2nLw_oWuCL0F"
   },
   "outputs": [],
   "source": [
    "test_dl = DataLoader(test_ids, shuffle=False, batch_size=batch_size, drop_last=True)"
   ]
  },
  {
   "cell_type": "code",
   "execution_count": 125,
   "metadata": {
    "id": "B7A3zMbjEPHO"
   },
   "outputs": [],
   "source": [
    "preds_GRU, target_GRU = predict(model_gru, test_dl, optimizer, False)"
   ]
  },
  {
   "cell_type": "code",
   "execution_count": 139,
   "metadata": {
    "id": "eSaHOwHCEV7e"
   },
   "outputs": [],
   "source": [
    "clean_test_df_copy = clean_test_df.loc[:495]"
   ]
  },
  {
   "cell_type": "code",
   "execution_count": null,
   "metadata": {
    "id": "kfZ08zdAEYVM"
   },
   "outputs": [],
   "source": [
    "clean_test_df_copy[\"predictions\"] = preds_GRU"
   ]
  },
  {
   "cell_type": "code",
   "execution_count": 142,
   "metadata": {
    "colab": {
     "base_uri": "https://localhost:8080/",
     "height": 833
    },
    "id": "pt497iSoFwDp",
    "outputId": "52336173-b251-4ed4-9d86-79b94e84ab3d"
   },
   "outputs": [
    {
     "data": {
      "text/html": [
       "\n",
       "  <div id=\"df-b8b8d815-54ea-4e09-813e-1d078c518549\">\n",
       "    <div class=\"colab-df-container\">\n",
       "      <div>\n",
       "<style scoped>\n",
       "    .dataframe tbody tr th:only-of-type {\n",
       "        vertical-align: middle;\n",
       "    }\n",
       "\n",
       "    .dataframe tbody tr th {\n",
       "        vertical-align: top;\n",
       "    }\n",
       "\n",
       "    .dataframe thead th {\n",
       "        text-align: right;\n",
       "    }\n",
       "</style>\n",
       "<table border=\"1\" class=\"dataframe\">\n",
       "  <thead>\n",
       "    <tr style=\"text-align: right;\">\n",
       "      <th></th>\n",
       "      <th>target</th>\n",
       "      <th>C_tweet</th>\n",
       "      <th>predictions</th>\n",
       "    </tr>\n",
       "  </thead>\n",
       "  <tbody>\n",
       "    <tr>\n",
       "      <th>0</th>\n",
       "      <td>2</td>\n",
       "      <td>loooooooovvvvvveee kindle dx cool fantastic right</td>\n",
       "      <td>2</td>\n",
       "    </tr>\n",
       "    <tr>\n",
       "      <th>1</th>\n",
       "      <td>2</td>\n",
       "      <td>reading kindle love lee childs good read</td>\n",
       "      <td>2</td>\n",
       "    </tr>\n",
       "    <tr>\n",
       "      <th>2</th>\n",
       "      <td>2</td>\n",
       "      <td>ok first assesment kindle fucking rocks</td>\n",
       "      <td>1</td>\n",
       "    </tr>\n",
       "    <tr>\n",
       "      <th>3</th>\n",
       "      <td>2</td>\n",
       "      <td>love kindle mine months never looked back new ...</td>\n",
       "      <td>2</td>\n",
       "    </tr>\n",
       "    <tr>\n",
       "      <th>4</th>\n",
       "      <td>2</td>\n",
       "      <td>fair enough kindle think perfect</td>\n",
       "      <td>2</td>\n",
       "    </tr>\n",
       "    <tr>\n",
       "      <th>5</th>\n",
       "      <td>2</td>\n",
       "      <td>big quite happy kindle</td>\n",
       "      <td>2</td>\n",
       "    </tr>\n",
       "    <tr>\n",
       "      <th>6</th>\n",
       "      <td>0</td>\n",
       "      <td>fuck economy hate aig non loan given asses</td>\n",
       "      <td>0</td>\n",
       "    </tr>\n",
       "    <tr>\n",
       "      <th>7</th>\n",
       "      <td>2</td>\n",
       "      <td>jquery new best friend</td>\n",
       "      <td>2</td>\n",
       "    </tr>\n",
       "    <tr>\n",
       "      <th>8</th>\n",
       "      <td>2</td>\n",
       "      <td>loves twitter</td>\n",
       "      <td>1</td>\n",
       "    </tr>\n",
       "    <tr>\n",
       "      <th>9</th>\n",
       "      <td>2</td>\n",
       "      <td>love obama makes jokes</td>\n",
       "      <td>2</td>\n",
       "    </tr>\n",
       "    <tr>\n",
       "      <th>10</th>\n",
       "      <td>1</td>\n",
       "      <td>check video president obama white house corres...</td>\n",
       "      <td>1</td>\n",
       "    </tr>\n",
       "    <tr>\n",
       "      <th>11</th>\n",
       "      <td>0</td>\n",
       "      <td>firmly believe obama pelosi zero desire civil ...</td>\n",
       "      <td>0</td>\n",
       "    </tr>\n",
       "    <tr>\n",
       "      <th>12</th>\n",
       "      <td>2</td>\n",
       "      <td>house correspondents dinner last night whoopi ...</td>\n",
       "      <td>1</td>\n",
       "    </tr>\n",
       "    <tr>\n",
       "      <th>13</th>\n",
       "      <td>2</td>\n",
       "      <td>watchin espn jus seen new nike commerical pupp...</td>\n",
       "      <td>1</td>\n",
       "    </tr>\n",
       "    <tr>\n",
       "      <th>14</th>\n",
       "      <td>0</td>\n",
       "      <td>dear nike stop flywire shit waste science ugly...</td>\n",
       "      <td>1</td>\n",
       "    </tr>\n",
       "    <tr>\n",
       "      <th>15</th>\n",
       "      <td>2</td>\n",
       "      <td>lebron best athlete generation time basketball...</td>\n",
       "      <td>2</td>\n",
       "    </tr>\n",
       "    <tr>\n",
       "      <th>16</th>\n",
       "      <td>0</td>\n",
       "      <td>talking guy last night telling die hard spurs ...</td>\n",
       "      <td>0</td>\n",
       "    </tr>\n",
       "    <tr>\n",
       "      <th>17</th>\n",
       "      <td>2</td>\n",
       "      <td>love lebron http bit ly pdhur</td>\n",
       "      <td>2</td>\n",
       "    </tr>\n",
       "    <tr>\n",
       "      <th>18</th>\n",
       "      <td>0</td>\n",
       "      <td>lebron beast still cheering til end</td>\n",
       "      <td>1</td>\n",
       "    </tr>\n",
       "    <tr>\n",
       "      <th>19</th>\n",
       "      <td>2</td>\n",
       "      <td>lebron boss</td>\n",
       "      <td>1</td>\n",
       "    </tr>\n",
       "    <tr>\n",
       "      <th>20</th>\n",
       "      <td>2</td>\n",
       "      <td>lebron hometown hero lol love lakers let go ca...</td>\n",
       "      <td>2</td>\n",
       "    </tr>\n",
       "    <tr>\n",
       "      <th>21</th>\n",
       "      <td>2</td>\n",
       "      <td>lebron zydrunas awesome duo</td>\n",
       "      <td>2</td>\n",
       "    </tr>\n",
       "    <tr>\n",
       "      <th>22</th>\n",
       "      <td>2</td>\n",
       "      <td>lebron beast nobody nba comes even close</td>\n",
       "      <td>0</td>\n",
       "    </tr>\n",
       "    <tr>\n",
       "      <th>23</th>\n",
       "      <td>2</td>\n",
       "      <td>downloading apps iphone much fun literally app...</td>\n",
       "      <td>2</td>\n",
       "    </tr>\n",
       "    <tr>\n",
       "      <th>24</th>\n",
       "      <td>2</td>\n",
       "      <td>good news call visa office saying everything f...</td>\n",
       "      <td>1</td>\n",
       "    </tr>\n",
       "  </tbody>\n",
       "</table>\n",
       "</div>\n",
       "      <button class=\"colab-df-convert\" onclick=\"convertToInteractive('df-b8b8d815-54ea-4e09-813e-1d078c518549')\"\n",
       "              title=\"Convert this dataframe to an interactive table.\"\n",
       "              style=\"display:none;\">\n",
       "        \n",
       "  <svg xmlns=\"http://www.w3.org/2000/svg\" height=\"24px\"viewBox=\"0 0 24 24\"\n",
       "       width=\"24px\">\n",
       "    <path d=\"M0 0h24v24H0V0z\" fill=\"none\"/>\n",
       "    <path d=\"M18.56 5.44l.94 2.06.94-2.06 2.06-.94-2.06-.94-.94-2.06-.94 2.06-2.06.94zm-11 1L8.5 8.5l.94-2.06 2.06-.94-2.06-.94L8.5 2.5l-.94 2.06-2.06.94zm10 10l.94 2.06.94-2.06 2.06-.94-2.06-.94-.94-2.06-.94 2.06-2.06.94z\"/><path d=\"M17.41 7.96l-1.37-1.37c-.4-.4-.92-.59-1.43-.59-.52 0-1.04.2-1.43.59L10.3 9.45l-7.72 7.72c-.78.78-.78 2.05 0 2.83L4 21.41c.39.39.9.59 1.41.59.51 0 1.02-.2 1.41-.59l7.78-7.78 2.81-2.81c.8-.78.8-2.07 0-2.86zM5.41 20L4 18.59l7.72-7.72 1.47 1.35L5.41 20z\"/>\n",
       "  </svg>\n",
       "      </button>\n",
       "      \n",
       "  <style>\n",
       "    .colab-df-container {\n",
       "      display:flex;\n",
       "      flex-wrap:wrap;\n",
       "      gap: 12px;\n",
       "    }\n",
       "\n",
       "    .colab-df-convert {\n",
       "      background-color: #E8F0FE;\n",
       "      border: none;\n",
       "      border-radius: 50%;\n",
       "      cursor: pointer;\n",
       "      display: none;\n",
       "      fill: #1967D2;\n",
       "      height: 32px;\n",
       "      padding: 0 0 0 0;\n",
       "      width: 32px;\n",
       "    }\n",
       "\n",
       "    .colab-df-convert:hover {\n",
       "      background-color: #E2EBFA;\n",
       "      box-shadow: 0px 1px 2px rgba(60, 64, 67, 0.3), 0px 1px 3px 1px rgba(60, 64, 67, 0.15);\n",
       "      fill: #174EA6;\n",
       "    }\n",
       "\n",
       "    [theme=dark] .colab-df-convert {\n",
       "      background-color: #3B4455;\n",
       "      fill: #D2E3FC;\n",
       "    }\n",
       "\n",
       "    [theme=dark] .colab-df-convert:hover {\n",
       "      background-color: #434B5C;\n",
       "      box-shadow: 0px 1px 3px 1px rgba(0, 0, 0, 0.15);\n",
       "      filter: drop-shadow(0px 1px 2px rgba(0, 0, 0, 0.3));\n",
       "      fill: #FFFFFF;\n",
       "    }\n",
       "  </style>\n",
       "\n",
       "      <script>\n",
       "        const buttonEl =\n",
       "          document.querySelector('#df-b8b8d815-54ea-4e09-813e-1d078c518549 button.colab-df-convert');\n",
       "        buttonEl.style.display =\n",
       "          google.colab.kernel.accessAllowed ? 'block' : 'none';\n",
       "\n",
       "        async function convertToInteractive(key) {\n",
       "          const element = document.querySelector('#df-b8b8d815-54ea-4e09-813e-1d078c518549');\n",
       "          const dataTable =\n",
       "            await google.colab.kernel.invokeFunction('convertToInteractive',\n",
       "                                                     [key], {});\n",
       "          if (!dataTable) return;\n",
       "\n",
       "          const docLinkHtml = 'Like what you see? Visit the ' +\n",
       "            '<a target=\"_blank\" href=https://colab.research.google.com/notebooks/data_table.ipynb>data table notebook</a>'\n",
       "            + ' to learn more about interactive tables.';\n",
       "          element.innerHTML = '';\n",
       "          dataTable['output_type'] = 'display_data';\n",
       "          await google.colab.output.renderOutput(dataTable, element);\n",
       "          const docLink = document.createElement('div');\n",
       "          docLink.innerHTML = docLinkHtml;\n",
       "          element.appendChild(docLink);\n",
       "        }\n",
       "      </script>\n",
       "    </div>\n",
       "  </div>\n",
       "  "
      ],
      "text/plain": [
       "    target                                            C_tweet  predictions\n",
       "0        2  loooooooovvvvvveee kindle dx cool fantastic right            2\n",
       "1        2           reading kindle love lee childs good read            2\n",
       "2        2            ok first assesment kindle fucking rocks            1\n",
       "3        2  love kindle mine months never looked back new ...            2\n",
       "4        2                   fair enough kindle think perfect            2\n",
       "5        2                             big quite happy kindle            2\n",
       "6        0         fuck economy hate aig non loan given asses            0\n",
       "7        2                             jquery new best friend            2\n",
       "8        2                                      loves twitter            1\n",
       "9        2                             love obama makes jokes            2\n",
       "10       1  check video president obama white house corres...            1\n",
       "11       0  firmly believe obama pelosi zero desire civil ...            0\n",
       "12       2  house correspondents dinner last night whoopi ...            1\n",
       "13       2  watchin espn jus seen new nike commerical pupp...            1\n",
       "14       0  dear nike stop flywire shit waste science ugly...            1\n",
       "15       2  lebron best athlete generation time basketball...            2\n",
       "16       0  talking guy last night telling die hard spurs ...            0\n",
       "17       2                      love lebron http bit ly pdhur            2\n",
       "18       0                lebron beast still cheering til end            1\n",
       "19       2                                        lebron boss            1\n",
       "20       2  lebron hometown hero lol love lakers let go ca...            2\n",
       "21       2                        lebron zydrunas awesome duo            2\n",
       "22       2           lebron beast nobody nba comes even close            0\n",
       "23       2  downloading apps iphone much fun literally app...            2\n",
       "24       2  good news call visa office saying everything f...            1"
      ]
     },
     "execution_count": 142,
     "metadata": {},
     "output_type": "execute_result"
    }
   ],
   "source": [
    "# C_tweet is the transformed tweet\n",
    "clean_test_df_copy[:25]"
   ]
  }
 ],
 "metadata": {
  "accelerator": "GPU",
  "colab": {
   "provenance": []
  },
  "gpuClass": "standard",
  "kernelspec": {
   "display_name": "Python 3",
   "language": "python",
   "name": "python3"
  },
  "language_info": {
   "codemirror_mode": {
    "name": "ipython",
    "version": 3
   },
   "file_extension": ".py",
   "mimetype": "text/x-python",
   "name": "python",
   "nbconvert_exporter": "python",
   "pygments_lexer": "ipython3",
   "version": "3.7.6"
  }
 },
 "nbformat": 4,
 "nbformat_minor": 1
}
